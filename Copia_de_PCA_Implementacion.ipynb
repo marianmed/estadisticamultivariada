{
  "cells": [
    {
      "cell_type": "markdown",
      "metadata": {
        "id": "ywUraKT7sbCy"
      },
      "source": [
        "# Implementación de PCA\n",
        "\n",
        "Recordemos que dado un vector aleatorio $X=(X_{1},\\dots, X_{n})$ con $\\Sigma_{X}$ su matriz de covarianza (que supondremos no degenerada), podemos definir la $j$-ésima componente principal de $X$ como\n",
        "$$\\xi_{j}=b_{j}\\bullet X,$$\n",
        "en dónde $b_{j}=(b_{j1},\\dots, b_{jn})$ es un vector en $\\mathbb{R}^{n}$ que se elige de acuerdo al siguiente problema de optimización:\n",
        "\n",
        "$$\\begin{align}\n",
        "\\max \\text{Var}(\\xi_{j})&=b_{j}\\bullet\\Sigma_{X}\\bullet b_{j}\\\\\n",
        "\\text{sujeta a}&\\\\\n",
        "||b_{j}||&=1 \\quad \\text{y} \\quad b_{i}\\bullet b_{j}=0 \\ \\ \\forall i>j\\geq 1.\n",
        "\\end{align}$$\n",
        "\n",
        "**Teorema.-** Sea $X=(X_{1},\\dots, X_{n})$ un vector aleatorio y sea $\\Sigma_{X}$ su matriz de covarianza. Entonces, el problema de optimización para el sistema de ecuaciones $\\{\\xi_{j}\\}_{j=1}^{p}$ tiene la siguiente solución:\n",
        "\n",
        "\n",
        "1.   Descomponemos espectralmente a la matriz $Σ_{X}$ como $Σ_{X}=Q\\Lambda Q^{-1}$, en donde $\\Lambda=\\text{diag}(\\lambda_{1},\\dots, \\lambda_{n})$ con $\\lambda_{i}\\in Spec(Σ_{X})$ y $Q$ se forma a través de las eigenparejas $(λ_{i},b_{i})$.\n",
        "2.   Ordenamos los eigenvalores de manera decreciente:\n",
        "$$λ_{1}\\geq\\lambda_{2}\\geq \\cdots \\geq λ_{n}$$\n",
        "\n"
      ]
    },
    {
      "cell_type": "markdown",
      "metadata": {
        "id": "5cDrq9wIr-VG"
      },
      "source": [
        "Aplicaremos el teorema anterior para dar una implementación del PCA usando datos sintéticos. Luego, aplicaremos nuestro resultado a la base de datos Iris de Fisher."
      ]
    },
    {
      "cell_type": "code",
      "execution_count": null,
      "metadata": {
        "colab": {
          "background_save": true,
          "base_uri": "https://localhost:8080/"
        },
        "id": "O0ZTd3r2sIHJ",
        "outputId": "36bafef5-b977-4599-9818-871ab4726adb"
      },
      "outputs": [
        {
          "data": {
            "text/plain": [
              "array([47, 22, 18, 19, 21, 15, 25, 10, 26, 11, 22, 17, 16, 35, 30, 47, 28,\n",
              "       30, 21, 38, 39, 24, 14, 33, 33, 40, 42, 32, 23, 19, 17, 32, 11, 10,\n",
              "       27, 18, 34, 23, 18, 40, 17, 13, 16, 31, 13, 14, 34, 22, 36, 26, 28,\n",
              "       25, 10, 14, 35, 44, 33, 17, 36, 35, 32, 19, 13, 49, 33, 46, 37, 47,\n",
              "       29, 48, 18, 42, 44, 20, 33, 25, 33, 35, 17, 38, 20, 42, 34, 33, 11,\n",
              "       23, 13, 10, 23, 16, 31, 16, 12, 22, 37, 31, 21, 17, 23, 18])"
            ]
          },
          "execution_count": 2,
          "metadata": {},
          "output_type": "execute_result"
        }
      ],
      "source": [
        "# Cómo crear datos sintéticos y matrices\n",
        "\n",
        "import numpy as np\n",
        "\n",
        "#dif\n",
        "np.random.seed(1)\n",
        "\n",
        "X = np.random.randint(10, 50, 100)\n",
        "X"
      ]
    },
    {
      "cell_type": "markdown",
      "metadata": {
        "id": "L8Dk8e5Xd5Cd"
      },
      "source": [
        "randint:método (elegir un num aleatorio entero en el intervalo)  \n",
        "el 100 significa que escoge 100 números en ese rango\n",
        "\n",
        "np.random:distribución\n"
      ]
    },
    {
      "cell_type": "code",
      "execution_count": null,
      "metadata": {
        "colab": {
          "background_save": true,
          "base_uri": "https://localhost:8080/"
        },
        "id": "aQJvS1p7fs2Z",
        "outputId": "052c5688-e5dd-4da6-87d0-fec1fe3162e8"
      },
      "outputs": [
        {
          "data": {
            "text/plain": [
              "1"
            ]
          },
          "execution_count": 3,
          "metadata": {},
          "output_type": "execute_result"
        }
      ],
      "source": [
        "X.ndim ##dimensión como objeto en python\n"
      ]
    },
    {
      "cell_type": "code",
      "execution_count": null,
      "metadata": {
        "colab": {
          "background_save": true,
          "base_uri": "https://localhost:8080/"
        },
        "id": "m2MGvlj0gr2i",
        "outputId": "1d7253af-3ee7-4a10-ac70-66c8272d9189"
      },
      "outputs": [
        {
          "data": {
            "text/plain": [
              "(100,)"
            ]
          },
          "execution_count": 4,
          "metadata": {},
          "output_type": "execute_result"
        }
      ],
      "source": [
        "X.shape ##dimensión como objeto matemático, vector"
      ]
    },
    {
      "cell_type": "code",
      "execution_count": null,
      "metadata": {
        "colab": {
          "background_save": true,
          "base_uri": "https://localhost:8080/"
        },
        "id": "eHvSBNzXtOwC",
        "outputId": "f1e9cd8d-ecac-4941-f033-2927e8663a2e"
      },
      "outputs": [
        {
          "data": {
            "text/plain": [
              "26.37"
            ]
          },
          "execution_count": 5,
          "metadata": {},
          "output_type": "execute_result"
        }
      ],
      "source": [
        "# Se calcula la media del vector\n",
        "\n",
        "np.mean(X) ##media muestral, 1/n*suma(datos)"
      ]
    },
    {
      "cell_type": "code",
      "execution_count": null,
      "metadata": {
        "colab": {
          "background_save": true
        },
        "id": "_L5-5EHGuFMP"
      },
      "outputs": [],
      "source": [
        "# Creamos una matriz a partir del arreglo anterior ##20*5=100, puede ser cualquier m*n=100\n",
        "\n",
        "Y = X.reshape(20,5)"
      ]
    },
    {
      "cell_type": "code",
      "execution_count": null,
      "metadata": {
        "colab": {
          "background_save": true,
          "base_uri": "https://localhost:8080/"
        },
        "id": "VfV7ipTmf2mX",
        "outputId": "ed78c368-5ad1-45d9-a3ab-179e06d7e2b6"
      },
      "outputs": [
        {
          "data": {
            "text/plain": [
              "2"
            ]
          },
          "execution_count": 7,
          "metadata": {},
          "output_type": "execute_result"
        }
      ],
      "source": [
        "Y.ndim"
      ]
    },
    {
      "cell_type": "code",
      "execution_count": null,
      "metadata": {
        "colab": {
          "background_save": true,
          "base_uri": "https://localhost:8080/"
        },
        "id": "mvBFdMPtuNu0",
        "outputId": "1b700970-7bf0-41a2-fbb4-f0335bb2a469"
      },
      "outputs": [
        {
          "data": {
            "text/plain": [
              "array([28.7 , 27.6 , 21.55, 25.9 , 28.1 ])"
            ]
          },
          "execution_count": 8,
          "metadata": {},
          "output_type": "execute_result"
        }
      ],
      "source": [
        "np.mean(Y, axis = 0) # Calcula la media por columnas y las muestra en un arreglo ##eje 0 es por columnas"
      ]
    },
    {
      "cell_type": "code",
      "execution_count": null,
      "metadata": {
        "colab": {
          "background_save": true,
          "base_uri": "https://localhost:8080/"
        },
        "id": "y_nRIcdpuVms",
        "outputId": "a459d352-dadf-4726-bace-51b8d7867072"
      },
      "outputs": [
        {
          "data": {
            "text/plain": [
              "array([25.4, 17.4, 24. , 32.8, 28.6, 31.2, 19.4, 26.6, 18. , 26.4, 22.4,\n",
              "       33. , 29.2, 41.4, 31.4, 29.6, 28. , 17. , 23.6, 22. ])"
            ]
          },
          "execution_count": 9,
          "metadata": {},
          "output_type": "execute_result"
        }
      ],
      "source": [
        "np.mean(Y, axis = 1) # Calcula la media por renglones y las muestra en un arreglo"
      ]
    },
    {
      "cell_type": "markdown",
      "metadata": {
        "id": "j811muMviNLY"
      },
      "source": [
        "#Preprocesamiento de datos\n",
        "para que la visualización de los datos esté mejor representada\n",
        "se espacian restandole la media por columna y se divide entre la varianza\n",
        "media=0\n",
        "varianza=1"
      ]
    },
    {
      "cell_type": "code",
      "execution_count": null,
      "metadata": {
        "colab": {
          "background_save": true,
          "base_uri": "https://localhost:8080/"
        },
        "id": "jGDaDrrUuoX1",
        "outputId": "fb6af36b-88b8-47e7-eafb-53c6968ac1c3"
      },
      "outputs": [
        {
          "data": {
            "text/plain": [
              "array([[ 18.3 ,  -5.6 ,  -3.55,  -6.9 ,  -7.1 ],\n",
              "       [-13.7 ,  -2.6 , -11.55,   0.1 , -17.1 ],\n",
              "       [ -6.7 , -10.6 ,  -5.55,   9.1 ,   1.9 ],\n",
              "       [ 18.3 ,   0.4 ,   8.45,  -4.9 ,   9.9 ],\n",
              "       [ 10.3 ,  -3.6 ,  -7.55,   7.1 ,   4.9 ],\n",
              "       [ 11.3 ,  14.4 ,  10.45,  -2.9 ,  -9.1 ],\n",
              "       [-11.7 ,   4.4 , -10.55, -15.9 ,  -1.1 ],\n",
              "       [-10.7 ,   6.4 ,   1.45,  -7.9 ,  11.9 ],\n",
              "       [-11.7 , -14.6 ,  -5.55,   5.1 , -15.1 ],\n",
              "       [-14.7 ,   6.4 ,   0.45,  10.1 ,  -2.1 ],\n",
              "       [ -0.7 ,  -2.6 , -11.55, -11.9 ,   6.9 ],\n",
              "       [ 15.3 ,   5.4 ,  -4.55,  10.1 ,   6.9 ],\n",
              "       [  3.3 ,  -8.6 ,  -8.55,  23.1 ,   4.9 ],\n",
              "       [ 17.3 ,   9.4 ,  25.45,   3.1 ,  19.9 ],\n",
              "       [-10.7 ,  14.4 ,  22.45,  -5.9 ,   4.9 ],\n",
              "       [ -3.7 ,   5.4 ,  13.45,  -8.9 ,   9.9 ],\n",
              "       [ -8.7 ,  14.4 ,  12.45,   7.1 , -17.1 ],\n",
              "       [ -5.7 , -14.6 , -11.55,  -2.9 , -12.1 ],\n",
              "       [  2.3 , -11.6 ,  -9.55,  -3.9 ,   8.9 ],\n",
              "       [  2.3 ,  -6.6 ,  -4.55,  -2.9 , -10.1 ]])"
            ]
          },
          "execution_count": 10,
          "metadata": {},
          "output_type": "execute_result"
        }
      ],
      "source": [
        "# Centramos a los datos\n",
        "\n",
        "Y_media = Y - np.mean(Y, axis = 0)\n",
        "\n",
        "Y_media"
      ]
    },
    {
      "cell_type": "code",
      "execution_count": null,
      "metadata": {
        "colab": {
          "background_save": true,
          "base_uri": "https://localhost:8080/"
        },
        "id": "0u1wo6I-vEBR",
        "outputId": "d3ea3dd8-2cf3-48d6-827e-bb9f172740fd"
      },
      "outputs": [
        {
          "name": "stdout",
          "output_type": "stream",
          "text": [
            "[[133.27368421   2.87368421  25.12105263   8.02105263  47.4       ]\n",
            " [  2.87368421  90.46315789  81.02105263 -13.98947368  19.98947368]\n",
            " [ 25.12105263  81.02105263 132.57631579  -6.67894737  39.99473684]\n",
            " [  8.02105263 -13.98947368  -6.67894737  86.30526316  -7.56842105]\n",
            " [ 47.4         19.98947368  39.99473684  -7.56842105 114.93684211]]\n"
          ]
        }
      ],
      "source": [
        "# Matriz de covarianza\n",
        "##simetrica y positiva definida\n",
        "#20x5_20x20, la multiplicamos por su transpuesta para obtener matriz cuadrada\n",
        "S = np.cov(Y_media, rowvar = False) #True muestra la matriz por filas, False solo por columnas\n",
        "\n",
        "print(S)"
      ]
    },
    {
      "cell_type": "code",
      "execution_count": null,
      "metadata": {
        "colab": {
          "background_save": true
        },
        "id": "yas4Wi1YvyIX"
      },
      "outputs": [],
      "source": [
        "# Vamos a calcular eigenvalores y eigenvectores\n",
        "\n",
        "eigen_val, eigen_vec = np.linalg.eigh(S)"
      ]
    },
    {
      "cell_type": "code",
      "execution_count": null,
      "metadata": {
        "colab": {
          "background_save": true,
          "base_uri": "https://localhost:8080/"
        },
        "id": "M0RSTdV3w1yK",
        "outputId": "28281383-1cf3-43fb-fce8-fb5854cd40c6"
      },
      "outputs": [
        {
          "data": {
            "text/plain": [
              "array([ 25.32015354,  68.0575041 ,  87.56646353, 143.89053724,\n",
              "       232.72060475])"
            ]
          },
          "execution_count": 13,
          "metadata": {},
          "output_type": "execute_result"
        }
      ],
      "source": [
        "eigen_val #positiva definida:eigenvalores positivos"
      ]
    },
    {
      "cell_type": "code",
      "execution_count": null,
      "metadata": {
        "colab": {
          "background_save": true,
          "base_uri": "https://localhost:8080/"
        },
        "id": "bUUzdhhVxzXq",
        "outputId": "7aed10d4-3ace-4f47-9c7c-1e8c68f50c16"
      },
      "outputs": [
        {
          "data": {
            "text/plain": [
              "array([232.72060475, 143.89053724,  87.56646353,  68.0575041 ,\n",
              "        25.32015354])"
            ]
          },
          "execution_count": 14,
          "metadata": {},
          "output_type": "execute_result"
        }
      ],
      "source": [
        "# Accesos ##queremos que sean decrecientes\n",
        "\n",
        "eigen_val[::-1]\n"
      ]
    },
    {
      "cell_type": "code",
      "execution_count": null,
      "metadata": {
        "colab": {
          "background_save": true,
          "base_uri": "https://localhost:8080/"
        },
        "id": "twAwyeQBxB06",
        "outputId": "f4329ab9-84af-402d-d6dd-91c20efbe04e"
      },
      "outputs": [
        {
          "data": {
            "text/plain": [
              "array([232.72060475, 143.89053724,  87.56646353,  68.0575041 ,\n",
              "        25.32015354])"
            ]
          },
          "execution_count": 15,
          "metadata": {},
          "output_type": "execute_result"
        }
      ],
      "source": [
        "# Reescribimos a los eigenvalores de manera decreciente, lo mismo\n",
        "\n",
        "eigen_val = eigen_val[np.argsort(eigen_val)[::-1]]\n",
        "\n",
        "eigen_val"
      ]
    },
    {
      "cell_type": "code",
      "execution_count": null,
      "metadata": {
        "colab": {
          "background_save": true,
          "base_uri": "https://localhost:8080/"
        },
        "id": "eaJkEtF4xhoi",
        "outputId": "1dd2073f-5408-4000-c7d5-399bf0cffd96"
      },
      "outputs": [
        {
          "data": {
            "text/plain": [
              "array([[-0.08580948, -0.5438984 , -0.12668786, -0.72645219, -0.39118878],\n",
              "       [-0.76935464, -0.10413723, -0.09709811,  0.42891032, -0.45150501],\n",
              "       [ 0.62032731, -0.05176756, -0.24136258,  0.35883513, -0.65230024],\n",
              "       [-0.1057969 ,  0.43419566, -0.8682955 , -0.20169179,  0.07526287],\n",
              "       [-0.06878383,  0.70860724,  0.40290095, -0.34476212, -0.46038513]])"
            ]
          },
          "execution_count": 16,
          "metadata": {},
          "output_type": "execute_result"
        }
      ],
      "source": [
        "eigen_vec = eigen_vec[:,np.argsort(eigen_val)[::-1]]\n",
        "\n",
        "eigen_vec"
      ]
    },
    {
      "cell_type": "code",
      "execution_count": null,
      "metadata": {
        "colab": {
          "background_save": true,
          "base_uri": "https://localhost:8080/"
        },
        "id": "29Z549i4u7Uq",
        "outputId": "24248fa6-fa85-4da6-86b4-4c3e44f20aa8"
      },
      "outputs": [
        {
          "data": {
            "text/plain": [
              "array([-0.76935464, -0.10413723, -0.09709811,  0.42891032, -0.45150501])"
            ]
          },
          "execution_count": 17,
          "metadata": {},
          "output_type": "execute_result"
        }
      ],
      "source": [
        "eigen_vec[1] #renglones"
      ]
    },
    {
      "cell_type": "code",
      "execution_count": null,
      "metadata": {
        "colab": {
          "background_save": true,
          "base_uri": "https://localhost:8080/"
        },
        "id": "PKfSyrABKdv1",
        "outputId": "9174ff6e-66b2-45df-9c32-7695e8a4aef7"
      },
      "outputs": [
        {
          "data": {
            "text/plain": [
              "array([[-0.08580948, -0.5438984 ],\n",
              "       [-0.76935464, -0.10413723],\n",
              "       [ 0.62032731, -0.05176756],\n",
              "       [-0.1057969 ,  0.43419566],\n",
              "       [-0.06878383,  0.70860724]])"
            ]
          },
          "execution_count": 18,
          "metadata": {},
          "output_type": "execute_result"
        }
      ],
      "source": [
        "n_components = 2\n",
        "eigenvector_2 = eigen_vec[:,0:n_components] #: accesos secuenciales\n",
        "eigenvector_2 #primeras 2 columnas"
      ]
    },
    {
      "cell_type": "code",
      "execution_count": null,
      "metadata": {
        "colab": {
          "background_save": true,
          "base_uri": "https://localhost:8080/"
        },
        "id": "6gHe3ln6KrTa",
        "outputId": "982af736-5bbf-4c4f-f408-63e441fcae2a"
      },
      "outputs": [
        {
          "data": {
            "text/plain": [
              "array([[  1.75427434, -17.21345884],\n",
              "       [ -2.82324463,  -3.75368397],\n",
              "       [  4.19382505,  10.33281816],\n",
              "       [  3.20115527,  -5.54477859],\n",
              "       [ -3.88583093,   1.71855017],\n",
              "       [ -4.63318969, -15.89409235],\n",
              "       [ -7.16780964,  -1.23162372],\n",
              "       [ -3.08896571,  10.08045206],\n",
              "       [  9.29280377,  -0.31424654],\n",
              "       [ -4.30742568,  10.20283376],\n",
              "       [ -4.32001703,   0.97186257],\n",
              "       [ -9.83304654,   0.62632183],\n",
              "       [ -1.7514691 ,  13.04542325],\n",
              "       [  5.37412373,   3.74147386],\n",
              "       [  4.0529637 ,   4.06837617],\n",
              "       [  4.76701484,   3.90467968],\n",
              "       [ -2.18404379,  -6.44656072],\n",
              "       [  5.69600674,  -4.61477517],\n",
              "       [  2.60345802,   5.0646471 ],\n",
              "       [  3.05941727,  -8.74421869]])"
            ]
          },
          "execution_count": 19,
          "metadata": {},
          "output_type": "execute_result"
        }
      ],
      "source": [
        "# Descomposición espectral\n",
        "\n",
        "Y_red = np.dot(eigenvector_2.transpose(),Y_media.transpose()).transpose() #dot: multiplicacion de matrices\n",
        "\n",
        "\n",
        "Y_red"
      ]
    },
    {
      "cell_type": "markdown",
      "metadata": {
        "id": "qoNE1cYMvYxF"
      },
      "source": [
        "## La parte de la varianza explicada\n",
        "\n",
        "**Definición.-** Llamamos a la parte de la varianza total de $X$ explicada por las primeras $k$ componentes principales $(\\xi_{1},\\dots, \\xi_{k})_{k< p}$ a la cantidad:\n",
        "$$\\frac{λ_{1}+\\cdots +λ_{k}}{\\text{Tr}(Σ_{X})}.$$\n",
        "\n",
        "Denotamos por $\\rho_{ij}=\\text{Corr}(\\xi_{i},X_{i})$. Llamaremos a $\\rho_{ij}^{2}$ la parte de la varianza de la variable $X_{i}$ explicada por la $j$-ésima componente principal $\\xi_{j}$."
      ]
    },
    {
      "cell_type": "code",
      "execution_count": null,
      "metadata": {
        "colab": {
          "background_save": true,
          "base_uri": "https://localhost:8080/"
        },
        "id": "FTqM3YAbgHB-",
        "outputId": "3f00f5eb-3716-456e-8865-9eb233dc7cd1"
      },
      "outputs": [
        {
          "name": "stdout",
          "output_type": "stream",
          "text": [
            "Varianza explicada: [41.74 25.81 15.71 12.21  4.54]\n",
            "Varianza explicada acumulada: [ 41.74  67.55  83.26  95.47 100.01]\n"
          ]
        }
      ],
      "source": [
        "# Información total\n",
        "\n",
        "eigen_val_total = sum(eigen_val)\n",
        "\n",
        "varianza_explicada = [(i/ eigen_val_total )*100 for i in eigen_val ]\n",
        "\n",
        "varianza_explicada = np.round(varianza_explicada, 2)\n",
        "\n",
        "varianza_explicada_acumulada = np.cumsum(varianza_explicada)\n",
        "\n",
        "print(\"Varianza explicada: {}\".format(varianza_explicada))\n",
        "\n",
        "print(\"Varianza explicada acumulada: {}\".format(varianza_explicada_acumulada)) #porcentaje de informacion dependiendo la columna\n",
        "#2 va de nuestro conjunto de 100 datos aleatorios explican el 60 porciento de la info del conjunto de datos\n",
        "\n",
        "#muestra de 100, numeros aleatorios entre 0 y 1. np.random(0,1,100)?"
      ]
    },
    {
      "cell_type": "code",
      "execution_count": null,
      "metadata": {
        "colab": {
          "background_save": true
        },
        "id": "zD6dKku0bNcP"
      },
      "outputs": [],
      "source": [
        "# Escribimos lo anterior como función\n",
        "def PCA(X , num_componentes):\n",
        "\n",
        "    X_media = X - np.mean(X , axis = 0)\n",
        "\n",
        "    cov_mat = np.cov(X_media , rowvar = False)\n",
        "\n",
        "    eigen_val , eigen_vec = np.linalg.eigh(cov_mat)\n",
        "\n",
        "    sorted_index = np.argsort(eigen_val)[::-1]\n",
        "    sorted_eigenval = eigen_val[sorted_index]\n",
        "    sorted_eigenvec = eigen_vec[:,sorted_index]\n",
        "\n",
        "    eigenvector_ = sorted_eigenvec[:,0:num_componentes]\n",
        "\n",
        "    X_red = np.dot(eigenvector_.transpose() , X_media.transpose() ).transpose()\n",
        "\n",
        "    return X_red"
      ]
    },
    {
      "cell_type": "markdown",
      "metadata": {
        "id": "wZAXS1_t8-h7"
      },
      "source": [
        "## PCA con sklearn"
      ]
    },
    {
      "cell_type": "code",
      "execution_count": null,
      "metadata": {
        "colab": {
          "background_save": true
        },
        "id": "X-HMIZQgK4nq"
      },
      "outputs": [],
      "source": [
        "import pandas as pd\n",
        "\n",
        "# Datos de Iris de Fisher\n",
        "url = \"https://archive.ics.uci.edu/ml/machine-learning-databases/iris/iris.data\"\n",
        "data = pd.read_csv(url, names=['sepal length','sepal width','petal length','petal width','target'])\n",
        "\n",
        "#se preparan los datos\n",
        "x = data.iloc[:,0:4]\n",
        "\n",
        "target = data.iloc[:,4]\n",
        "\n",
        "# Aplicamos PCA a los datos elegidos\n",
        "mat_red = PCA(x , 2)\n",
        "\n",
        "# Tabla que muestra a las dos componentes principales\n",
        "principal_df = pd.DataFrame(mat_red , columns = ['PC1','PC2'])\n",
        "\n",
        "\n",
        "principal_df = pd.concat([principal_df , pd.DataFrame(target)] , axis = 1)"
      ]
    },
    {
      "cell_type": "code",
      "execution_count": null,
      "metadata": {
        "colab": {
          "background_save": true,
          "base_uri": "https://localhost:8080/",
          "height": 424
        },
        "id": "YKcFGEEGb5tw",
        "outputId": "618a983f-5f41-4001-e1de-9f6c5023966d"
      },
      "outputs": [
        {
          "data": {
            "application/vnd.google.colaboratory.intrinsic+json": {
              "summary": "{\n  \"name\": \"principal_df\",\n  \"rows\": 150,\n  \"fields\": [\n    {\n      \"column\": \"PC1\",\n      \"properties\": {\n        \"dtype\": \"number\",\n        \"std\": 2.0554417452995626,\n        \"min\": -3.7946868612099696,\n        \"max\": 3.2252004462749797,\n        \"num_unique_values\": 147,\n        \"samples\": [\n          -1.2906696477376014,\n          -0.18096720634769844,\n          -2.314303394629548\n        ],\n        \"semantic_type\": \"\",\n        \"description\": \"\"\n      }\n    },\n    {\n      \"column\": \"PC2\",\n      \"properties\": {\n        \"dtype\": \"number\",\n        \"std\": 0.4921824576592664,\n        \"min\": -1.26249195386214,\n        \"max\": 1.3705240359763342,\n        \"num_unique_values\": 147,\n        \"samples\": [\n          -0.11642525182937336,\n          -0.8256039435761132,\n          0.1826088507936966\n        ],\n        \"semantic_type\": \"\",\n        \"description\": \"\"\n      }\n    },\n    {\n      \"column\": \"target\",\n      \"properties\": {\n        \"dtype\": \"category\",\n        \"num_unique_values\": 3,\n        \"samples\": [\n          \"Iris-setosa\",\n          \"Iris-versicolor\",\n          \"Iris-virginica\"\n        ],\n        \"semantic_type\": \"\",\n        \"description\": \"\"\n      }\n    }\n  ]\n}",
              "type": "dataframe",
              "variable_name": "principal_df"
            },
            "text/html": [
              "\n",
              "  <div id=\"df-978be0ae-41a3-4af0-92a7-bf5b65b37256\" class=\"colab-df-container\">\n",
              "    <div>\n",
              "<style scoped>\n",
              "    .dataframe tbody tr th:only-of-type {\n",
              "        vertical-align: middle;\n",
              "    }\n",
              "\n",
              "    .dataframe tbody tr th {\n",
              "        vertical-align: top;\n",
              "    }\n",
              "\n",
              "    .dataframe thead th {\n",
              "        text-align: right;\n",
              "    }\n",
              "</style>\n",
              "<table border=\"1\" class=\"dataframe\">\n",
              "  <thead>\n",
              "    <tr style=\"text-align: right;\">\n",
              "      <th></th>\n",
              "      <th>PC1</th>\n",
              "      <th>PC2</th>\n",
              "      <th>target</th>\n",
              "    </tr>\n",
              "  </thead>\n",
              "  <tbody>\n",
              "    <tr>\n",
              "      <th>0</th>\n",
              "      <td>2.684207</td>\n",
              "      <td>0.326607</td>\n",
              "      <td>Iris-setosa</td>\n",
              "    </tr>\n",
              "    <tr>\n",
              "      <th>1</th>\n",
              "      <td>2.715391</td>\n",
              "      <td>-0.169557</td>\n",
              "      <td>Iris-setosa</td>\n",
              "    </tr>\n",
              "    <tr>\n",
              "      <th>2</th>\n",
              "      <td>2.889820</td>\n",
              "      <td>-0.137346</td>\n",
              "      <td>Iris-setosa</td>\n",
              "    </tr>\n",
              "    <tr>\n",
              "      <th>3</th>\n",
              "      <td>2.746437</td>\n",
              "      <td>-0.311124</td>\n",
              "      <td>Iris-setosa</td>\n",
              "    </tr>\n",
              "    <tr>\n",
              "      <th>4</th>\n",
              "      <td>2.728593</td>\n",
              "      <td>0.333925</td>\n",
              "      <td>Iris-setosa</td>\n",
              "    </tr>\n",
              "    <tr>\n",
              "      <th>...</th>\n",
              "      <td>...</td>\n",
              "      <td>...</td>\n",
              "      <td>...</td>\n",
              "    </tr>\n",
              "    <tr>\n",
              "      <th>145</th>\n",
              "      <td>-1.944017</td>\n",
              "      <td>0.187415</td>\n",
              "      <td>Iris-virginica</td>\n",
              "    </tr>\n",
              "    <tr>\n",
              "      <th>146</th>\n",
              "      <td>-1.525664</td>\n",
              "      <td>-0.375021</td>\n",
              "      <td>Iris-virginica</td>\n",
              "    </tr>\n",
              "    <tr>\n",
              "      <th>147</th>\n",
              "      <td>-1.764046</td>\n",
              "      <td>0.078519</td>\n",
              "      <td>Iris-virginica</td>\n",
              "    </tr>\n",
              "    <tr>\n",
              "      <th>148</th>\n",
              "      <td>-1.901629</td>\n",
              "      <td>0.115877</td>\n",
              "      <td>Iris-virginica</td>\n",
              "    </tr>\n",
              "    <tr>\n",
              "      <th>149</th>\n",
              "      <td>-1.389666</td>\n",
              "      <td>-0.282887</td>\n",
              "      <td>Iris-virginica</td>\n",
              "    </tr>\n",
              "  </tbody>\n",
              "</table>\n",
              "<p>150 rows × 3 columns</p>\n",
              "</div>\n",
              "    <div class=\"colab-df-buttons\">\n",
              "\n",
              "  <div class=\"colab-df-container\">\n",
              "    <button class=\"colab-df-convert\" onclick=\"convertToInteractive('df-978be0ae-41a3-4af0-92a7-bf5b65b37256')\"\n",
              "            title=\"Convert this dataframe to an interactive table.\"\n",
              "            style=\"display:none;\">\n",
              "\n",
              "  <svg xmlns=\"http://www.w3.org/2000/svg\" height=\"24px\" viewBox=\"0 -960 960 960\">\n",
              "    <path d=\"M120-120v-720h720v720H120Zm60-500h600v-160H180v160Zm220 220h160v-160H400v160Zm0 220h160v-160H400v160ZM180-400h160v-160H180v160Zm440 0h160v-160H620v160ZM180-180h160v-160H180v160Zm440 0h160v-160H620v160Z\"/>\n",
              "  </svg>\n",
              "    </button>\n",
              "\n",
              "  <style>\n",
              "    .colab-df-container {\n",
              "      display:flex;\n",
              "      gap: 12px;\n",
              "    }\n",
              "\n",
              "    .colab-df-convert {\n",
              "      background-color: #E8F0FE;\n",
              "      border: none;\n",
              "      border-radius: 50%;\n",
              "      cursor: pointer;\n",
              "      display: none;\n",
              "      fill: #1967D2;\n",
              "      height: 32px;\n",
              "      padding: 0 0 0 0;\n",
              "      width: 32px;\n",
              "    }\n",
              "\n",
              "    .colab-df-convert:hover {\n",
              "      background-color: #E2EBFA;\n",
              "      box-shadow: 0px 1px 2px rgba(60, 64, 67, 0.3), 0px 1px 3px 1px rgba(60, 64, 67, 0.15);\n",
              "      fill: #174EA6;\n",
              "    }\n",
              "\n",
              "    .colab-df-buttons div {\n",
              "      margin-bottom: 4px;\n",
              "    }\n",
              "\n",
              "    [theme=dark] .colab-df-convert {\n",
              "      background-color: #3B4455;\n",
              "      fill: #D2E3FC;\n",
              "    }\n",
              "\n",
              "    [theme=dark] .colab-df-convert:hover {\n",
              "      background-color: #434B5C;\n",
              "      box-shadow: 0px 1px 3px 1px rgba(0, 0, 0, 0.15);\n",
              "      filter: drop-shadow(0px 1px 2px rgba(0, 0, 0, 0.3));\n",
              "      fill: #FFFFFF;\n",
              "    }\n",
              "  </style>\n",
              "\n",
              "    <script>\n",
              "      const buttonEl =\n",
              "        document.querySelector('#df-978be0ae-41a3-4af0-92a7-bf5b65b37256 button.colab-df-convert');\n",
              "      buttonEl.style.display =\n",
              "        google.colab.kernel.accessAllowed ? 'block' : 'none';\n",
              "\n",
              "      async function convertToInteractive(key) {\n",
              "        const element = document.querySelector('#df-978be0ae-41a3-4af0-92a7-bf5b65b37256');\n",
              "        const dataTable =\n",
              "          await google.colab.kernel.invokeFunction('convertToInteractive',\n",
              "                                                    [key], {});\n",
              "        if (!dataTable) return;\n",
              "\n",
              "        const docLinkHtml = 'Like what you see? Visit the ' +\n",
              "          '<a target=\"_blank\" href=https://colab.research.google.com/notebooks/data_table.ipynb>data table notebook</a>'\n",
              "          + ' to learn more about interactive tables.';\n",
              "        element.innerHTML = '';\n",
              "        dataTable['output_type'] = 'display_data';\n",
              "        await google.colab.output.renderOutput(dataTable, element);\n",
              "        const docLink = document.createElement('div');\n",
              "        docLink.innerHTML = docLinkHtml;\n",
              "        element.appendChild(docLink);\n",
              "      }\n",
              "    </script>\n",
              "  </div>\n",
              "\n",
              "\n",
              "<div id=\"df-6eb7c620-bcd1-40bb-a7fe-bd10dc781471\">\n",
              "  <button class=\"colab-df-quickchart\" onclick=\"quickchart('df-6eb7c620-bcd1-40bb-a7fe-bd10dc781471')\"\n",
              "            title=\"Suggest charts\"\n",
              "            style=\"display:none;\">\n",
              "\n",
              "<svg xmlns=\"http://www.w3.org/2000/svg\" height=\"24px\"viewBox=\"0 0 24 24\"\n",
              "     width=\"24px\">\n",
              "    <g>\n",
              "        <path d=\"M19 3H5c-1.1 0-2 .9-2 2v14c0 1.1.9 2 2 2h14c1.1 0 2-.9 2-2V5c0-1.1-.9-2-2-2zM9 17H7v-7h2v7zm4 0h-2V7h2v10zm4 0h-2v-4h2v4z\"/>\n",
              "    </g>\n",
              "</svg>\n",
              "  </button>\n",
              "\n",
              "<style>\n",
              "  .colab-df-quickchart {\n",
              "      --bg-color: #E8F0FE;\n",
              "      --fill-color: #1967D2;\n",
              "      --hover-bg-color: #E2EBFA;\n",
              "      --hover-fill-color: #174EA6;\n",
              "      --disabled-fill-color: #AAA;\n",
              "      --disabled-bg-color: #DDD;\n",
              "  }\n",
              "\n",
              "  [theme=dark] .colab-df-quickchart {\n",
              "      --bg-color: #3B4455;\n",
              "      --fill-color: #D2E3FC;\n",
              "      --hover-bg-color: #434B5C;\n",
              "      --hover-fill-color: #FFFFFF;\n",
              "      --disabled-bg-color: #3B4455;\n",
              "      --disabled-fill-color: #666;\n",
              "  }\n",
              "\n",
              "  .colab-df-quickchart {\n",
              "    background-color: var(--bg-color);\n",
              "    border: none;\n",
              "    border-radius: 50%;\n",
              "    cursor: pointer;\n",
              "    display: none;\n",
              "    fill: var(--fill-color);\n",
              "    height: 32px;\n",
              "    padding: 0;\n",
              "    width: 32px;\n",
              "  }\n",
              "\n",
              "  .colab-df-quickchart:hover {\n",
              "    background-color: var(--hover-bg-color);\n",
              "    box-shadow: 0 1px 2px rgba(60, 64, 67, 0.3), 0 1px 3px 1px rgba(60, 64, 67, 0.15);\n",
              "    fill: var(--button-hover-fill-color);\n",
              "  }\n",
              "\n",
              "  .colab-df-quickchart-complete:disabled,\n",
              "  .colab-df-quickchart-complete:disabled:hover {\n",
              "    background-color: var(--disabled-bg-color);\n",
              "    fill: var(--disabled-fill-color);\n",
              "    box-shadow: none;\n",
              "  }\n",
              "\n",
              "  .colab-df-spinner {\n",
              "    border: 2px solid var(--fill-color);\n",
              "    border-color: transparent;\n",
              "    border-bottom-color: var(--fill-color);\n",
              "    animation:\n",
              "      spin 1s steps(1) infinite;\n",
              "  }\n",
              "\n",
              "  @keyframes spin {\n",
              "    0% {\n",
              "      border-color: transparent;\n",
              "      border-bottom-color: var(--fill-color);\n",
              "      border-left-color: var(--fill-color);\n",
              "    }\n",
              "    20% {\n",
              "      border-color: transparent;\n",
              "      border-left-color: var(--fill-color);\n",
              "      border-top-color: var(--fill-color);\n",
              "    }\n",
              "    30% {\n",
              "      border-color: transparent;\n",
              "      border-left-color: var(--fill-color);\n",
              "      border-top-color: var(--fill-color);\n",
              "      border-right-color: var(--fill-color);\n",
              "    }\n",
              "    40% {\n",
              "      border-color: transparent;\n",
              "      border-right-color: var(--fill-color);\n",
              "      border-top-color: var(--fill-color);\n",
              "    }\n",
              "    60% {\n",
              "      border-color: transparent;\n",
              "      border-right-color: var(--fill-color);\n",
              "    }\n",
              "    80% {\n",
              "      border-color: transparent;\n",
              "      border-right-color: var(--fill-color);\n",
              "      border-bottom-color: var(--fill-color);\n",
              "    }\n",
              "    90% {\n",
              "      border-color: transparent;\n",
              "      border-bottom-color: var(--fill-color);\n",
              "    }\n",
              "  }\n",
              "</style>\n",
              "\n",
              "  <script>\n",
              "    async function quickchart(key) {\n",
              "      const quickchartButtonEl =\n",
              "        document.querySelector('#' + key + ' button');\n",
              "      quickchartButtonEl.disabled = true;  // To prevent multiple clicks.\n",
              "      quickchartButtonEl.classList.add('colab-df-spinner');\n",
              "      try {\n",
              "        const charts = await google.colab.kernel.invokeFunction(\n",
              "            'suggestCharts', [key], {});\n",
              "      } catch (error) {\n",
              "        console.error('Error during call to suggestCharts:', error);\n",
              "      }\n",
              "      quickchartButtonEl.classList.remove('colab-df-spinner');\n",
              "      quickchartButtonEl.classList.add('colab-df-quickchart-complete');\n",
              "    }\n",
              "    (() => {\n",
              "      let quickchartButtonEl =\n",
              "        document.querySelector('#df-6eb7c620-bcd1-40bb-a7fe-bd10dc781471 button');\n",
              "      quickchartButtonEl.style.display =\n",
              "        google.colab.kernel.accessAllowed ? 'block' : 'none';\n",
              "    })();\n",
              "  </script>\n",
              "</div>\n",
              "\n",
              "  <div id=\"id_ec5988cf-99bd-4c8d-87af-373b34a236b5\">\n",
              "    <style>\n",
              "      .colab-df-generate {\n",
              "        background-color: #E8F0FE;\n",
              "        border: none;\n",
              "        border-radius: 50%;\n",
              "        cursor: pointer;\n",
              "        display: none;\n",
              "        fill: #1967D2;\n",
              "        height: 32px;\n",
              "        padding: 0 0 0 0;\n",
              "        width: 32px;\n",
              "      }\n",
              "\n",
              "      .colab-df-generate:hover {\n",
              "        background-color: #E2EBFA;\n",
              "        box-shadow: 0px 1px 2px rgba(60, 64, 67, 0.3), 0px 1px 3px 1px rgba(60, 64, 67, 0.15);\n",
              "        fill: #174EA6;\n",
              "      }\n",
              "\n",
              "      [theme=dark] .colab-df-generate {\n",
              "        background-color: #3B4455;\n",
              "        fill: #D2E3FC;\n",
              "      }\n",
              "\n",
              "      [theme=dark] .colab-df-generate:hover {\n",
              "        background-color: #434B5C;\n",
              "        box-shadow: 0px 1px 3px 1px rgba(0, 0, 0, 0.15);\n",
              "        filter: drop-shadow(0px 1px 2px rgba(0, 0, 0, 0.3));\n",
              "        fill: #FFFFFF;\n",
              "      }\n",
              "    </style>\n",
              "    <button class=\"colab-df-generate\" onclick=\"generateWithVariable('principal_df')\"\n",
              "            title=\"Generate code using this dataframe.\"\n",
              "            style=\"display:none;\">\n",
              "\n",
              "  <svg xmlns=\"http://www.w3.org/2000/svg\" height=\"24px\"viewBox=\"0 0 24 24\"\n",
              "       width=\"24px\">\n",
              "    <path d=\"M7,19H8.4L18.45,9,17,7.55,7,17.6ZM5,21V16.75L18.45,3.32a2,2,0,0,1,2.83,0l1.4,1.43a1.91,1.91,0,0,1,.58,1.4,1.91,1.91,0,0,1-.58,1.4L9.25,21ZM18.45,9,17,7.55Zm-12,3A5.31,5.31,0,0,0,4.9,8.1,5.31,5.31,0,0,0,1,6.5,5.31,5.31,0,0,0,4.9,4.9,5.31,5.31,0,0,0,6.5,1,5.31,5.31,0,0,0,8.1,4.9,5.31,5.31,0,0,0,12,6.5,5.46,5.46,0,0,0,6.5,12Z\"/>\n",
              "  </svg>\n",
              "    </button>\n",
              "    <script>\n",
              "      (() => {\n",
              "      const buttonEl =\n",
              "        document.querySelector('#id_ec5988cf-99bd-4c8d-87af-373b34a236b5 button.colab-df-generate');\n",
              "      buttonEl.style.display =\n",
              "        google.colab.kernel.accessAllowed ? 'block' : 'none';\n",
              "\n",
              "      buttonEl.onclick = () => {\n",
              "        google.colab.notebook.generateWithVariable('principal_df');\n",
              "      }\n",
              "      })();\n",
              "    </script>\n",
              "  </div>\n",
              "\n",
              "    </div>\n",
              "  </div>\n"
            ],
            "text/plain": [
              "          PC1       PC2          target\n",
              "0    2.684207  0.326607     Iris-setosa\n",
              "1    2.715391 -0.169557     Iris-setosa\n",
              "2    2.889820 -0.137346     Iris-setosa\n",
              "3    2.746437 -0.311124     Iris-setosa\n",
              "4    2.728593  0.333925     Iris-setosa\n",
              "..        ...       ...             ...\n",
              "145 -1.944017  0.187415  Iris-virginica\n",
              "146 -1.525664 -0.375021  Iris-virginica\n",
              "147 -1.764046  0.078519  Iris-virginica\n",
              "148 -1.901629  0.115877  Iris-virginica\n",
              "149 -1.389666 -0.282887  Iris-virginica\n",
              "\n",
              "[150 rows x 3 columns]"
            ]
          },
          "execution_count": 23,
          "metadata": {},
          "output_type": "execute_result"
        }
      ],
      "source": [
        "principal_df"
      ]
    },
    {
      "cell_type": "code",
      "execution_count": null,
      "metadata": {
        "colab": {
          "background_save": true,
          "base_uri": "https://localhost:8080/",
          "height": 565
        },
        "id": "RU5iuOE_aEnu",
        "outputId": "ea3b6e86-539d-4d31-d78d-35a98ed5e99a"
      },
      "outputs": [
        {
          "data": {
            "text/plain": [
              "<Axes: xlabel='PC1', ylabel='PC2'>"
            ]
          },
          "execution_count": 24,
          "metadata": {},
          "output_type": "execute_result"
        },
        {
          "data": {
            "image/png": "[encoded data removed]",
            "text/plain": [
              "<Figure size 600x600 with 1 Axes>"
            ]
          },
          "metadata": {},
          "output_type": "display_data"
        }
      ],
      "source": [
        "import seaborn as sb\n",
        "import matplotlib.pyplot as plt\n",
        "\n",
        "plt.figure(figsize = (6,6))\n",
        "sb.scatterplot(data = principal_df , x = 'PC1',y = 'PC2' , hue = 'target' , s = 60 , palette= 'icefire')\n"
      ]
    },
    {
      "cell_type": "markdown",
      "metadata": {
        "id": "dVs5LHv6uKqb"
      },
      "source": [
        "## Componentes principales en el círculo"
      ]
    },
    {
      "cell_type": "markdown",
      "metadata": {
        "id": "Izu-xU84uRcD"
      },
      "source": [
        "**Teorema.-** Sean $X_{i}$ y $X_{j}$ dos variables aleatorias enteramente explicadas por las dos primeras componentes principales, esto es\n",
        "$$\\rho_{i1}^{2}+ρ_{i2}^2 =1 \\ \\text{y} \\ \\rho_{k1}^{2}+ρ_{k2}^2 =1.$$\n",
        "Entonces,\n",
        "$$\\text{Corr}(X_{i},X_{k})=\\rho_{i1}\\rho_{k1}+\\rho_{i2}\\rho_{k2}=\\cos(\\varphi),$$\n",
        "donde $φ$ es el ángulo formado por los vectores $(\\rho_{i1},\\rho_{i2})$ y $(\\rho_{k1},\\rho_{k2})$."
      ]
    },
    {
      "cell_type": "markdown",
      "metadata": {
        "id": "h1cU5qYpyGFl"
      },
      "source": [
        "Por lo tanto, si las variables $X_{i}$ y $X_{k}$ están enteramente explicadaspor las dos primeras componentes principales, el ángulo $φ$ describe la dependencia mutua de tales variables. En efecto, si el $φ=0$, entonces $\\text{Corr}(X_{i},X_{j})=1$, esto significa que:\n",
        "$$∃ \\ a>0, \\ b\\in \\mathbb{R} \\ \\text{tales que} \\ \\ X_{j}=aX_{k}+b.$$\n",
        "\n",
        "Similarmente, si $φ=\\pi/2$, las variables $X_{i}$ y $X_{k}$ son no correlacionadas."
      ]
    },
    {
      "cell_type": "markdown",
      "metadata": {
        "id": "i3H277bhz7ON"
      },
      "source": [
        "## PCA a través de **sklearn**: gráfica scree"
      ]
    },
    {
      "cell_type": "code",
      "execution_count": null,
      "metadata": {
        "colab": {
          "background_save": true
        },
        "id": "cQsq_-K-0LRI"
      },
      "outputs": [],
      "source": [
        "import matplotlib.pyplot as plt\n",
        "\n",
        "import pandas as pd\n",
        "from sklearn.preprocessing import StandardScaler\n",
        "from sklearn import datasets\n",
        "from sklearn.decomposition import PCA"
      ]
    },
    {
      "cell_type": "code",
      "execution_count": null,
      "metadata": {
        "colab": {
          "background_save": true,
          "base_uri": "https://localhost:8080/",
          "height": 206
        },
        "id": "QuBiVB6F13tE",
        "outputId": "be95d521-59f8-4a36-baa9-6d569e709605"
      },
      "outputs": [
        {
          "data": {
            "application/vnd.google.colaboratory.intrinsic+json": {
              "summary": "{\n  \"name\": \"df\",\n  \"rows\": 150,\n  \"fields\": [\n    {\n      \"column\": \"sepal_len\",\n      \"properties\": {\n        \"dtype\": \"number\",\n        \"std\": 0.828066127977863,\n        \"min\": 4.3,\n        \"max\": 7.9,\n        \"num_unique_values\": 35,\n        \"samples\": [\n          6.2,\n          4.5,\n          5.6\n        ],\n        \"semantic_type\": \"\",\n        \"description\": \"\"\n      }\n    },\n    {\n      \"column\": \"sepal_wid\",\n      \"properties\": {\n        \"dtype\": \"number\",\n        \"std\": 0.4335943113621737,\n        \"min\": 2.0,\n        \"max\": 4.4,\n        \"num_unique_values\": 23,\n        \"samples\": [\n          2.3,\n          4.0,\n          3.5\n        ],\n        \"semantic_type\": \"\",\n        \"description\": \"\"\n      }\n    },\n    {\n      \"column\": \"petal_len\",\n      \"properties\": {\n        \"dtype\": \"number\",\n        \"std\": 1.7644204199522626,\n        \"min\": 1.0,\n        \"max\": 6.9,\n        \"num_unique_values\": 43,\n        \"samples\": [\n          6.7,\n          3.8,\n          3.7\n        ],\n        \"semantic_type\": \"\",\n        \"description\": \"\"\n      }\n    },\n    {\n      \"column\": \"petal_wid\",\n      \"properties\": {\n        \"dtype\": \"number\",\n        \"std\": 0.7631607417008411,\n        \"min\": 0.1,\n        \"max\": 2.5,\n        \"num_unique_values\": 22,\n        \"samples\": [\n          0.2,\n          1.2,\n          1.3\n        ],\n        \"semantic_type\": \"\",\n        \"description\": \"\"\n      }\n    },\n    {\n      \"column\": \"class\",\n      \"properties\": {\n        \"dtype\": \"category\",\n        \"num_unique_values\": 3,\n        \"samples\": [\n          \"Iris-setosa\",\n          \"Iris-versicolor\",\n          \"Iris-virginica\"\n        ],\n        \"semantic_type\": \"\",\n        \"description\": \"\"\n      }\n    }\n  ]\n}",
              "type": "dataframe",
              "variable_name": "df"
            },
            "text/html": [
              "\n",
              "  <div id=\"df-54f889c9-52a8-4c35-8436-4830a8b414a1\" class=\"colab-df-container\">\n",
              "    <div>\n",
              "<style scoped>\n",
              "    .dataframe tbody tr th:only-of-type {\n",
              "        vertical-align: middle;\n",
              "    }\n",
              "\n",
              "    .dataframe tbody tr th {\n",
              "        vertical-align: top;\n",
              "    }\n",
              "\n",
              "    .dataframe thead th {\n",
              "        text-align: right;\n",
              "    }\n",
              "</style>\n",
              "<table border=\"1\" class=\"dataframe\">\n",
              "  <thead>\n",
              "    <tr style=\"text-align: right;\">\n",
              "      <th></th>\n",
              "      <th>sepal_len</th>\n",
              "      <th>sepal_wid</th>\n",
              "      <th>petal_len</th>\n",
              "      <th>petal_wid</th>\n",
              "      <th>class</th>\n",
              "    </tr>\n",
              "  </thead>\n",
              "  <tbody>\n",
              "    <tr>\n",
              "      <th>0</th>\n",
              "      <td>5.1</td>\n",
              "      <td>3.5</td>\n",
              "      <td>1.4</td>\n",
              "      <td>0.2</td>\n",
              "      <td>Iris-setosa</td>\n",
              "    </tr>\n",
              "    <tr>\n",
              "      <th>1</th>\n",
              "      <td>4.9</td>\n",
              "      <td>3.0</td>\n",
              "      <td>1.4</td>\n",
              "      <td>0.2</td>\n",
              "      <td>Iris-setosa</td>\n",
              "    </tr>\n",
              "    <tr>\n",
              "      <th>2</th>\n",
              "      <td>4.7</td>\n",
              "      <td>3.2</td>\n",
              "      <td>1.3</td>\n",
              "      <td>0.2</td>\n",
              "      <td>Iris-setosa</td>\n",
              "    </tr>\n",
              "    <tr>\n",
              "      <th>3</th>\n",
              "      <td>4.6</td>\n",
              "      <td>3.1</td>\n",
              "      <td>1.5</td>\n",
              "      <td>0.2</td>\n",
              "      <td>Iris-setosa</td>\n",
              "    </tr>\n",
              "    <tr>\n",
              "      <th>4</th>\n",
              "      <td>5.0</td>\n",
              "      <td>3.6</td>\n",
              "      <td>1.4</td>\n",
              "      <td>0.2</td>\n",
              "      <td>Iris-setosa</td>\n",
              "    </tr>\n",
              "  </tbody>\n",
              "</table>\n",
              "</div>\n",
              "    <div class=\"colab-df-buttons\">\n",
              "\n",
              "  <div class=\"colab-df-container\">\n",
              "    <button class=\"colab-df-convert\" onclick=\"convertToInteractive('df-54f889c9-52a8-4c35-8436-4830a8b414a1')\"\n",
              "            title=\"Convert this dataframe to an interactive table.\"\n",
              "            style=\"display:none;\">\n",
              "\n",
              "  <svg xmlns=\"http://www.w3.org/2000/svg\" height=\"24px\" viewBox=\"0 -960 960 960\">\n",
              "    <path d=\"M120-120v-720h720v720H120Zm60-500h600v-160H180v160Zm220 220h160v-160H400v160Zm0 220h160v-160H400v160ZM180-400h160v-160H180v160Zm440 0h160v-160H620v160ZM180-180h160v-160H180v160Zm440 0h160v-160H620v160Z\"/>\n",
              "  </svg>\n",
              "    </button>\n",
              "\n",
              "  <style>\n",
              "    .colab-df-container {\n",
              "      display:flex;\n",
              "      gap: 12px;\n",
              "    }\n",
              "\n",
              "    .colab-df-convert {\n",
              "      background-color: #E8F0FE;\n",
              "      border: none;\n",
              "      border-radius: 50%;\n",
              "      cursor: pointer;\n",
              "      display: none;\n",
              "      fill: #1967D2;\n",
              "      height: 32px;\n",
              "      padding: 0 0 0 0;\n",
              "      width: 32px;\n",
              "    }\n",
              "\n",
              "    .colab-df-convert:hover {\n",
              "      background-color: #E2EBFA;\n",
              "      box-shadow: 0px 1px 2px rgba(60, 64, 67, 0.3), 0px 1px 3px 1px rgba(60, 64, 67, 0.15);\n",
              "      fill: #174EA6;\n",
              "    }\n",
              "\n",
              "    .colab-df-buttons div {\n",
              "      margin-bottom: 4px;\n",
              "    }\n",
              "\n",
              "    [theme=dark] .colab-df-convert {\n",
              "      background-color: #3B4455;\n",
              "      fill: #D2E3FC;\n",
              "    }\n",
              "\n",
              "    [theme=dark] .colab-df-convert:hover {\n",
              "      background-color: #434B5C;\n",
              "      box-shadow: 0px 1px 3px 1px rgba(0, 0, 0, 0.15);\n",
              "      filter: drop-shadow(0px 1px 2px rgba(0, 0, 0, 0.3));\n",
              "      fill: #FFFFFF;\n",
              "    }\n",
              "  </style>\n",
              "\n",
              "    <script>\n",
              "      const buttonEl =\n",
              "        document.querySelector('#df-54f889c9-52a8-4c35-8436-4830a8b414a1 button.colab-df-convert');\n",
              "      buttonEl.style.display =\n",
              "        google.colab.kernel.accessAllowed ? 'block' : 'none';\n",
              "\n",
              "      async function convertToInteractive(key) {\n",
              "        const element = document.querySelector('#df-54f889c9-52a8-4c35-8436-4830a8b414a1');\n",
              "        const dataTable =\n",
              "          await google.colab.kernel.invokeFunction('convertToInteractive',\n",
              "                                                    [key], {});\n",
              "        if (!dataTable) return;\n",
              "\n",
              "        const docLinkHtml = 'Like what you see? Visit the ' +\n",
              "          '<a target=\"_blank\" href=https://colab.research.google.com/notebooks/data_table.ipynb>data table notebook</a>'\n",
              "          + ' to learn more about interactive tables.';\n",
              "        element.innerHTML = '';\n",
              "        dataTable['output_type'] = 'display_data';\n",
              "        await google.colab.output.renderOutput(dataTable, element);\n",
              "        const docLink = document.createElement('div');\n",
              "        docLink.innerHTML = docLinkHtml;\n",
              "        element.appendChild(docLink);\n",
              "      }\n",
              "    </script>\n",
              "  </div>\n",
              "\n",
              "\n",
              "<div id=\"df-d622636d-d0f8-4ce2-8519-1db09a09b239\">\n",
              "  <button class=\"colab-df-quickchart\" onclick=\"quickchart('df-d622636d-d0f8-4ce2-8519-1db09a09b239')\"\n",
              "            title=\"Suggest charts\"\n",
              "            style=\"display:none;\">\n",
              "\n",
              "<svg xmlns=\"http://www.w3.org/2000/svg\" height=\"24px\"viewBox=\"0 0 24 24\"\n",
              "     width=\"24px\">\n",
              "    <g>\n",
              "        <path d=\"M19 3H5c-1.1 0-2 .9-2 2v14c0 1.1.9 2 2 2h14c1.1 0 2-.9 2-2V5c0-1.1-.9-2-2-2zM9 17H7v-7h2v7zm4 0h-2V7h2v10zm4 0h-2v-4h2v4z\"/>\n",
              "    </g>\n",
              "</svg>\n",
              "  </button>\n",
              "\n",
              "<style>\n",
              "  .colab-df-quickchart {\n",
              "      --bg-color: #E8F0FE;\n",
              "      --fill-color: #1967D2;\n",
              "      --hover-bg-color: #E2EBFA;\n",
              "      --hover-fill-color: #174EA6;\n",
              "      --disabled-fill-color: #AAA;\n",
              "      --disabled-bg-color: #DDD;\n",
              "  }\n",
              "\n",
              "  [theme=dark] .colab-df-quickchart {\n",
              "      --bg-color: #3B4455;\n",
              "      --fill-color: #D2E3FC;\n",
              "      --hover-bg-color: #434B5C;\n",
              "      --hover-fill-color: #FFFFFF;\n",
              "      --disabled-bg-color: #3B4455;\n",
              "      --disabled-fill-color: #666;\n",
              "  }\n",
              "\n",
              "  .colab-df-quickchart {\n",
              "    background-color: var(--bg-color);\n",
              "    border: none;\n",
              "    border-radius: 50%;\n",
              "    cursor: pointer;\n",
              "    display: none;\n",
              "    fill: var(--fill-color);\n",
              "    height: 32px;\n",
              "    padding: 0;\n",
              "    width: 32px;\n",
              "  }\n",
              "\n",
              "  .colab-df-quickchart:hover {\n",
              "    background-color: var(--hover-bg-color);\n",
              "    box-shadow: 0 1px 2px rgba(60, 64, 67, 0.3), 0 1px 3px 1px rgba(60, 64, 67, 0.15);\n",
              "    fill: var(--button-hover-fill-color);\n",
              "  }\n",
              "\n",
              "  .colab-df-quickchart-complete:disabled,\n",
              "  .colab-df-quickchart-complete:disabled:hover {\n",
              "    background-color: var(--disabled-bg-color);\n",
              "    fill: var(--disabled-fill-color);\n",
              "    box-shadow: none;\n",
              "  }\n",
              "\n",
              "  .colab-df-spinner {\n",
              "    border: 2px solid var(--fill-color);\n",
              "    border-color: transparent;\n",
              "    border-bottom-color: var(--fill-color);\n",
              "    animation:\n",
              "      spin 1s steps(1) infinite;\n",
              "  }\n",
              "\n",
              "  @keyframes spin {\n",
              "    0% {\n",
              "      border-color: transparent;\n",
              "      border-bottom-color: var(--fill-color);\n",
              "      border-left-color: var(--fill-color);\n",
              "    }\n",
              "    20% {\n",
              "      border-color: transparent;\n",
              "      border-left-color: var(--fill-color);\n",
              "      border-top-color: var(--fill-color);\n",
              "    }\n",
              "    30% {\n",
              "      border-color: transparent;\n",
              "      border-left-color: var(--fill-color);\n",
              "      border-top-color: var(--fill-color);\n",
              "      border-right-color: var(--fill-color);\n",
              "    }\n",
              "    40% {\n",
              "      border-color: transparent;\n",
              "      border-right-color: var(--fill-color);\n",
              "      border-top-color: var(--fill-color);\n",
              "    }\n",
              "    60% {\n",
              "      border-color: transparent;\n",
              "      border-right-color: var(--fill-color);\n",
              "    }\n",
              "    80% {\n",
              "      border-color: transparent;\n",
              "      border-right-color: var(--fill-color);\n",
              "      border-bottom-color: var(--fill-color);\n",
              "    }\n",
              "    90% {\n",
              "      border-color: transparent;\n",
              "      border-bottom-color: var(--fill-color);\n",
              "    }\n",
              "  }\n",
              "</style>\n",
              "\n",
              "  <script>\n",
              "    async function quickchart(key) {\n",
              "      const quickchartButtonEl =\n",
              "        document.querySelector('#' + key + ' button');\n",
              "      quickchartButtonEl.disabled = true;  // To prevent multiple clicks.\n",
              "      quickchartButtonEl.classList.add('colab-df-spinner');\n",
              "      try {\n",
              "        const charts = await google.colab.kernel.invokeFunction(\n",
              "            'suggestCharts', [key], {});\n",
              "      } catch (error) {\n",
              "        console.error('Error during call to suggestCharts:', error);\n",
              "      }\n",
              "      quickchartButtonEl.classList.remove('colab-df-spinner');\n",
              "      quickchartButtonEl.classList.add('colab-df-quickchart-complete');\n",
              "    }\n",
              "    (() => {\n",
              "      let quickchartButtonEl =\n",
              "        document.querySelector('#df-d622636d-d0f8-4ce2-8519-1db09a09b239 button');\n",
              "      quickchartButtonEl.style.display =\n",
              "        google.colab.kernel.accessAllowed ? 'block' : 'none';\n",
              "    })();\n",
              "  </script>\n",
              "</div>\n",
              "\n",
              "    </div>\n",
              "  </div>\n"
            ],
            "text/plain": [
              "   sepal_len  sepal_wid  petal_len  petal_wid        class\n",
              "0        5.1        3.5        1.4        0.2  Iris-setosa\n",
              "1        4.9        3.0        1.4        0.2  Iris-setosa\n",
              "2        4.7        3.2        1.3        0.2  Iris-setosa\n",
              "3        4.6        3.1        1.5        0.2  Iris-setosa\n",
              "4        5.0        3.6        1.4        0.2  Iris-setosa"
            ]
          },
          "execution_count": 26,
          "metadata": {},
          "output_type": "execute_result"
        }
      ],
      "source": [
        "import pandas as pd\n",
        "\n",
        "df = pd.read_csv(\n",
        "    filepath_or_buffer='https://archive.ics.uci.edu/ml/machine-learning-databases/iris/iris.data',\n",
        "    header=None,\n",
        "    sep=',')\n",
        "\n",
        "df.columns=['sepal_len', 'sepal_wid', 'petal_len', 'petal_wid', 'class']\n",
        "df.dropna(how=\"all\", inplace=True)\n",
        "df.to_csv(\"iris_download.csv\", index = False)\n",
        "df.head()"
      ]
    },
    {
      "cell_type": "code",
      "execution_count": null,
      "metadata": {
        "colab": {
          "background_save": true
        },
        "id": "P7Tm5zIQ0q3S"
      },
      "outputs": [],
      "source": [
        "X = df.loc[:, 'sepal_len':'petal_wid'].values\n",
        "y = df.loc[:, 'class'].values\n",
        "\n",
        "pca = PCA()\n",
        "X_r = pca.fit(X).transform(X)"
      ]
    },
    {
      "cell_type": "code",
      "execution_count": null,
      "metadata": {
        "colab": {
          "background_save": true,
          "base_uri": "https://localhost:8080/"
        },
        "id": "Pn51pM1y2FAb",
        "outputId": "a369e8bd-20b6-40fa-9440-21b74ad35d8b"
      },
      "outputs": [
        {
          "data": {
            "text/plain": [
              "array(['Iris-setosa', 'Iris-versicolor', 'Iris-virginica'], dtype=object)"
            ]
          },
          "execution_count": 28,
          "metadata": {},
          "output_type": "execute_result"
        }
      ],
      "source": [
        "target_names = df.iloc[:,4].unique()\n",
        "target_names"
      ]
    },
    {
      "cell_type": "code",
      "execution_count": null,
      "metadata": {
        "colab": {
          "background_save": true,
          "base_uri": "https://localhost:8080/",
          "height": 472
        },
        "id": "xAp2P9PR2gFA",
        "outputId": "6503567a-1b7e-4230-bbcd-315eb1ed638e"
      },
      "outputs": [
        {
          "data": {
            "image/png": "[encoded data removed]",
            "text/plain": [
              "<Figure size 640x480 with 1 Axes>"
            ]
          },
          "metadata": {},
          "output_type": "display_data"
        }
      ],
      "source": [
        "def pca_scatter(pca1, pca2):\n",
        "    plt.close\n",
        "    plt.figure()\n",
        "    colors = ['red', 'cyan', 'blue']\n",
        "    lw = 2\n",
        "\n",
        "\n",
        "    for color, target_name in zip(colors, target_names):\n",
        "        plt.scatter(X_r[y == target_name, pca1], X_r[y == target_name, pca2], color=color, alpha=.6, lw=lw,\n",
        "                    label=target_name)\n",
        "    plt.legend(loc='best', shadow=False, scatterpoints=1)\n",
        "    plt.title('PCA of IRIS Dataset: Components {} and {}'.format(pca1+1, pca2+1))\n",
        "    plt.xlabel('Component {}'.format(pca1+1))\n",
        "    plt.ylabel('Component {}'.format(pca2+1))\n",
        "    plt.show()\n",
        "\n",
        "pca_scatter(0, 1)"
      ]
    },
    {
      "cell_type": "code",
      "execution_count": null,
      "metadata": {
        "colab": {
          "background_save": true,
          "base_uri": "https://localhost:8080/"
        },
        "id": "xc6_N2eF2phR",
        "outputId": "de1501cd-feab-4531-dc68-ab14b4b19713"
      },
      "outputs": [
        {
          "name": "stdout",
          "output_type": "stream",
          "text": [
            "\n",
            "Eigenvalores \n",
            "[4.22484077 0.24224357 0.07852391 0.02368303]\n",
            "Eigenvectores \n",
            "[[ 0.36158968 -0.08226889  0.85657211  0.35884393]\n",
            " [ 0.65653988  0.72971237 -0.1757674  -0.07470647]\n",
            " [-0.58099728  0.59641809  0.07252408  0.54906091]\n",
            " [ 0.31725455 -0.32409435 -0.47971899  0.75112056]]\n"
          ]
        }
      ],
      "source": [
        "X_r = pca.fit(X).transform(X)\n",
        "print('\\nEigenvalores \\n%s' %pca.explained_variance_)\n",
        "print('Eigenvectores \\n%s' %pca.components_)"
      ]
    },
    {
      "cell_type": "code",
      "execution_count": null,
      "metadata": {
        "colab": {
          "background_save": true,
          "base_uri": "https://localhost:8080/",
          "height": 472
        },
        "id": "r2B7wQ7h08RR",
        "outputId": "e4d764a9-0dec-460c-ae8a-cabc63ffffaa"
      },
      "outputs": [
        {
          "data": {
            "image/png": "[encoded data removed]",
            "text/plain": [
              "<Figure size 640x480 with 1 Axes>"
            ]
          },
          "metadata": {},
          "output_type": "display_data"
        }
      ],
      "source": [
        "def scree_plot():\n",
        "    from matplotlib.pyplot import figure, show\n",
        "    from matplotlib.ticker import MaxNLocator\n",
        "\n",
        "    ax = figure().gca()\n",
        "    ax.plot(pca.explained_variance_)\n",
        "    ax.xaxis.set_major_locator(MaxNLocator(integer=True))\n",
        "    plt.xlabel('Principal Component')\n",
        "    plt.ylabel('Eigenvalue')\n",
        "    plt.axhline(y=1, linewidth=1, color='r', alpha=0.5)\n",
        "    plt.title('Scree Plot of PCA: Component Eigenvalues')\n",
        "    show()\n",
        "\n",
        "scree_plot()"
      ]
    },
    {
      "cell_type": "code",
      "execution_count": null,
      "metadata": {
        "colab": {
          "background_save": true,
          "base_uri": "https://localhost:8080/",
          "height": 472
        },
        "id": "qabQ_djZ24vM",
        "outputId": "7d9e5933-f01e-4b97-f9d6-72f555ff5cf2"
      },
      "outputs": [
        {
          "data": {
            "image/png": "[encoded data removed]",
            "text/plain": [
              "<Figure size 640x480 with 1 Axes>"
            ]
          },
          "metadata": {},
          "output_type": "display_data"
        }
      ],
      "source": [
        "def var_explicada():\n",
        "    import numpy as np\n",
        "    from matplotlib.pyplot import figure, show\n",
        "    from matplotlib.ticker import MaxNLocator\n",
        "\n",
        "    ax = figure().gca()\n",
        "    ax.plot(np.cumsum(pca.explained_variance_ratio_))\n",
        "    ax.xaxis.set_major_locator(MaxNLocator(integer=True))\n",
        "    plt.xlabel('Nuúmero de componentes')\n",
        "    plt.ylabel('Varianza explicada acumulativa')\n",
        "    plt.axvline(x=1, linewidth=1, color='r', alpha=0.5)\n",
        "    plt.title('Varianza explicada del PCA por componente')\n",
        "    show()\n",
        "\n",
        "var_explicada()"
      ]
    },
    {
      "cell_type": "markdown",
      "metadata": {
        "id": "_MsnU-LFjIUy"
      },
      "source": [
        "## Ejercicios\n",
        "\n",
        "1. Considera los siguientes puntos en $\\mathbb{R}^{2}$:\n",
        "\t$$(4,11), \\ (8,4), \\ (13,5), \\ (7,14).$$\n",
        "Calcula las dos componentes principales y muestra que no están correlacionadas."
      ]
    },
    {
      "cell_type": "code",
      "execution_count": null,
      "metadata": {
        "colab": {
          "background_save": true
        },
        "id": "DlZU6eitk-hj"
      },
      "outputs": [],
      "source": [
        "import numpy as np"
      ]
    },
    {
      "cell_type": "code",
      "execution_count": null,
      "metadata": {
        "colab": {
          "background_save": true
        },
        "id": "y-xLsK17jH2S"
      },
      "outputs": [],
      "source": [
        "X1 = [4, 8, 13, 7]\n",
        "X2 = [11, 4, 5, 14]"
      ]
    },
    {
      "cell_type": "code",
      "execution_count": null,
      "metadata": {
        "colab": {
          "background_save": true
        },
        "id": "52q-vyoWj4QE"
      },
      "outputs": [],
      "source": [
        "barX1 = sum(X1) / len(X1)\n",
        "barX2 = sum(X2) / len(X2)\n",
        "\n",
        "covX1X2 = sum((a - barX1) * (b - barX2) for (a,b) in zip(X1,X2)) / (len(X1)-1)"
      ]
    },
    {
      "cell_type": "code",
      "execution_count": null,
      "metadata": {
        "colab": {
          "background_save": true,
          "base_uri": "https://localhost:8080/"
        },
        "id": "_B2iGe7UkbeA",
        "outputId": "a34c737e-b7df-415c-86b2-2c470ba1c928"
      },
      "outputs": [
        {
          "name": "stdout",
          "output_type": "stream",
          "text": [
            "14.0\n",
            "23.0\n"
          ]
        }
      ],
      "source": [
        "varX1 = np.var(X1, ddof = 1)\n",
        "varX2 = np.var(X2, ddof = 1)\n",
        "\n",
        "print(varX1)\n",
        "print(varX2)"
      ]
    },
    {
      "cell_type": "code",
      "execution_count": null,
      "metadata": {
        "colab": {
          "background_save": true,
          "base_uri": "https://localhost:8080/"
        },
        "id": "Za-lvid1lHd7",
        "outputId": "93108813-7ce5-4e17-d83d-596f1b088c41"
      },
      "outputs": [
        {
          "name": "stdout",
          "output_type": "stream",
          "text": [
            "[[ 14. -11.]\n",
            " [-11.  23.]]\n"
          ]
        }
      ],
      "source": [
        "# La matriz de covarianza\n",
        "\n",
        "S = np.cov(np.array(X1), np.array(X2))\n",
        "\n",
        "print(S)"
      ]
    },
    {
      "cell_type": "code",
      "execution_count": null,
      "metadata": {
        "colab": {
          "background_save": true,
          "base_uri": "https://localhost:8080/"
        },
        "id": "Sy0a1xemlmPS",
        "outputId": "bbcaf3b0-3c88-497a-84a2-7e16611da434"
      },
      "outputs": [
        {
          "name": "stdout",
          "output_type": "stream",
          "text": [
            "[ 6.61513568 30.38486432]\n",
            "[[-0.83025082 -0.55738997]\n",
            " [-0.55738997  0.83025082]]\n"
          ]
        }
      ],
      "source": [
        "eigen_val, eigen_vec = np.linalg.eigh(S)\n",
        "\n",
        "print(eigen_val)\n",
        "print(eigen_vec)"
      ]
    },
    {
      "cell_type": "markdown",
      "metadata": {
        "id": "Gk9vrkM3mlGI"
      },
      "source": [
        "Por lo tanto, la primera componente principal es:\n",
        "$$\\eta_{1}=-0.5573X_{11}+0.8303X_{12}.$$"
      ]
    },
    {
      "cell_type": "markdown",
      "metadata": {
        "id": "JE8OqangcD70"
      },
      "source": [
        "analicemos la influencia de la componente principal sobre la variable $Xi$.\n",
        "se tienen las siguientes propiedades:\n",
        "1. $Cov(Xi,x_{j})$\n",
        "2. $\\rho_{ij}^{2}$=Corr(Xi,j)\n",
        "3. sumatoria(i=0-p) pgorroi^2=1"
      ]
    }
  ],
  "metadata": {
    "colab": {
      "provenance": []
    },
    "kernelspec": {
      "display_name": "Python 3",
      "name": "python3"
    },
    "language_info": {
      "name": "python"
    }
  },
  "nbformat": 4,
  "nbformat_minor": 0
}